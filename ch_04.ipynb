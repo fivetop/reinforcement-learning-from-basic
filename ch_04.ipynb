{
 "cells": [
  {
   "cell_type": "code",
   "execution_count": 1,
   "metadata": {},
   "outputs": [],
   "source": [
    "import numpy as np"
   ]
  },
  {
   "cell_type": "markdown",
   "metadata": {},
   "source": [
    "# 4.1 밸류 평가하기 - 반복적 정책 평가"
   ]
  },
  {
   "cell_type": "markdown",
   "metadata": {},
   "source": [
    "상태 밸류 테이블 초기화"
   ]
  },
  {
   "cell_type": "code",
   "execution_count": 2,
   "metadata": {},
   "outputs": [
    {
     "data": {
      "text/plain": [
       "array([[0., 0., 0., 0.],\n",
       "       [0., 0., 0., 0.],\n",
       "       [0., 0., 0., 0.],\n",
       "       [0., 0., 0., 0.]])"
      ]
     },
     "execution_count": 2,
     "metadata": {},
     "output_type": "execute_result"
    }
   ],
   "source": [
    "grid_0 = np.zeros((4, 4))\n",
    "grid_0"
   ]
  },
  {
   "cell_type": "markdown",
   "metadata": {},
   "source": [
    "- grid 에서 상태의 value를 조회하는 함수\n",
    "- 모든 상태에 대허서 $r_s^a = -1$\n",
    "- 모든 상태, 모든 액션에 대허서 $P_{ss'}^a = 1.0$\n",
    "- 감쇠 인자 $\\gamma = 1$\n",
    "- 상태 수식\n",
    "$$v_{\\pi}(s) = \\sum_{a \\in A} \\pi(a|s) \\left ( r_s^a + \\gamma \\sum_{s' \\in S} P_{ss'}^a v_{\\pi}(s')\\right )$$"
   ]
  },
  {
   "cell_type": "code",
   "execution_count": 3,
   "metadata": {},
   "outputs": [],
   "source": [
    "def get_value(grid, state):\n",
    "    # 상태의 row, col 값 계산\n",
    "    row = state // grid.shape[1]\n",
    "    col = state % grid.shape[1]\n",
    "    # left, right, up, down 에 대한 밸류 계산\n",
    "    left_value = 0.25 * (-1 + 1 * grid[row, max(0, col - 1)])\n",
    "    right_value = 0.25 * (-1 + 1 * grid[row, min(grid.shape[1] - 1, col + 1)])\n",
    "    up_value = 0.25 * (-1 + 1 * grid[max(0, row - 1), col])\n",
    "    down_value = 0.25 * (-1 + 1 * grid[min(grid.shape[0] - 1, row + 1), col])\n",
    "    # 밸류의 합 계산\n",
    "    value = left_value + right_value + up_value + down_value\n",
    "    return value"
   ]
  },
  {
   "cell_type": "markdown",
   "metadata": {},
   "source": [
    "- 상태 $s_5$에 대한 값 계산 (1행, 1열)"
   ]
  },
  {
   "cell_type": "code",
   "execution_count": 4,
   "metadata": {},
   "outputs": [
    {
     "data": {
      "text/plain": [
       "array([[ 0.,  0.,  0.,  0.],\n",
       "       [ 0., -1.,  0.,  0.],\n",
       "       [ 0.,  0.,  0.,  0.],\n",
       "       [ 0.,  0.,  0.,  0.]])"
      ]
     },
     "execution_count": 4,
     "metadata": {},
     "output_type": "execute_result"
    }
   ],
   "source": [
    "grid_new = np.copy(grid_0)\n",
    "grid_new[1, 1] = get_value(grid_0, 5)\n",
    "grid_new"
   ]
  },
  {
   "cell_type": "markdown",
   "metadata": {},
   "source": [
    "- 전체 상태 $s$에 대해 1회 계산 함수 정의"
   ]
  },
  {
   "cell_type": "code",
   "execution_count": 5,
   "metadata": {},
   "outputs": [],
   "source": [
    "def update_value(grid):\n",
    "    grid_new = np.copy(grid)\n",
    "    for state in range(grid.shape[0] * grid.shape[1] - 1):  # 마지막 상태 15는 종료상태로 계산에서 제외\n",
    "        row = state // grid.shape[1]\n",
    "        col = state % grid.shape[1]\n",
    "        grid_new[row, col] = get_value(grid, state)\n",
    "    return grid_new"
   ]
  },
  {
   "cell_type": "markdown",
   "metadata": {},
   "source": [
    "- 전체 상태 $s$에 대해 1회 계산"
   ]
  },
  {
   "cell_type": "code",
   "execution_count": 6,
   "metadata": {},
   "outputs": [
    {
     "data": {
      "text/plain": [
       "array([[-1., -1., -1., -1.],\n",
       "       [-1., -1., -1., -1.],\n",
       "       [-1., -1., -1., -1.],\n",
       "       [-1., -1., -1.,  0.]])"
      ]
     },
     "execution_count": 6,
     "metadata": {},
     "output_type": "execute_result"
    }
   ],
   "source": [
    "grid_1 = update_value(grid_0)\n",
    "grid_1"
   ]
  },
  {
   "cell_type": "markdown",
   "metadata": {},
   "source": [
    "- 전체 상태 $s$에 대해 2회 (1회 추가) 계산"
   ]
  },
  {
   "cell_type": "code",
   "execution_count": 7,
   "metadata": {},
   "outputs": [
    {
     "data": {
      "text/plain": [
       "array([[-2.  , -2.  , -2.  , -2.  ],\n",
       "       [-2.  , -2.  , -2.  , -2.  ],\n",
       "       [-2.  , -2.  , -2.  , -1.75],\n",
       "       [-2.  , -2.  , -1.75,  0.  ]])"
      ]
     },
     "execution_count": 7,
     "metadata": {},
     "output_type": "execute_result"
    }
   ],
   "source": [
    "grid_2 = update_value(grid_1)\n",
    "grid_2"
   ]
  },
  {
   "cell_type": "markdown",
   "metadata": {},
   "source": [
    "- 전체 상태 $s$에 대해 3회 (1회 추가) 계산"
   ]
  },
  {
   "cell_type": "code",
   "execution_count": 8,
   "metadata": {},
   "outputs": [
    {
     "data": {
      "text/plain": [
       "array([[-3.    , -3.    , -3.    , -3.    ],\n",
       "       [-3.    , -3.    , -3.    , -2.9375],\n",
       "       [-3.    , -3.    , -2.875 , -2.4375],\n",
       "       [-3.    , -2.9375, -2.4375,  0.    ]])"
      ]
     },
     "execution_count": 8,
     "metadata": {},
     "output_type": "execute_result"
    }
   ],
   "source": [
    "grid_3 = update_value(grid_2)\n",
    "grid_3"
   ]
  },
  {
   "cell_type": "markdown",
   "metadata": {},
   "source": [
    "- 전체 상태 $s$에 대해 50회 (47회 추가) 계산"
   ]
  },
  {
   "cell_type": "code",
   "execution_count": 9,
   "metadata": {},
   "outputs": [
    {
     "data": {
      "text/plain": [
       "array([[-37.13915588, -36.0222712 , -34.24567064, -32.76845942],\n",
       "       [-36.0222712 , -34.37824156, -31.53427606, -28.79253866],\n",
       "       [-34.24567064, -31.53427606, -26.1612582 , -19.37050043],\n",
       "       [-32.76845942, -28.79253866, -19.37050043,   0.        ]])"
      ]
     },
     "execution_count": 9,
     "metadata": {},
     "output_type": "execute_result"
    }
   ],
   "source": [
    "grid = np.copy(grid_3)\n",
    "for _ in range(47):\n",
    "    grid = update_value(grid)\n",
    "grid"
   ]
  },
  {
   "cell_type": "markdown",
   "metadata": {},
   "source": [
    "- 전체 상태 $s$에 대해 200회 (150회 추가) 계산"
   ]
  },
  {
   "cell_type": "code",
   "execution_count": 10,
   "metadata": {},
   "outputs": [
    {
     "data": {
      "text/plain": [
       "array([[-58.32036399, -56.36427176, -53.28934376, -50.77231873],\n",
       "       [-56.36427176, -53.5674438 , -48.81039425, -44.32993618],\n",
       "       [-53.28934376, -48.81039425, -40.12647861, -29.47151229],\n",
       "       [-50.77231873, -44.32993618, -29.47151229,   0.        ]])"
      ]
     },
     "execution_count": 10,
     "metadata": {},
     "output_type": "execute_result"
    }
   ],
   "source": [
    "for _ in range(150):\n",
    "    grid = update_value(grid)\n",
    "grid"
   ]
  },
  {
   "cell_type": "markdown",
   "metadata": {},
   "source": [
    "- 전체 상태 $s$에 대해 1000회 (800회 추가) 계산"
   ]
  },
  {
   "cell_type": "code",
   "execution_count": 11,
   "metadata": {},
   "outputs": [
    {
     "data": {
      "text/plain": [
       "array([[-59.4285713 , -57.42857131, -54.28571417, -51.71428561],\n",
       "       [-57.42857131, -54.57142846, -49.71428561, -45.14285705],\n",
       "       [-54.28571417, -49.71428561, -40.85714278, -29.99999994],\n",
       "       [-51.71428561, -45.14285705, -29.99999994,   0.        ]])"
      ]
     },
     "execution_count": 11,
     "metadata": {},
     "output_type": "execute_result"
    }
   ],
   "source": [
    "for _ in range(800):\n",
    "    grid = update_value(grid)\n",
    "grid"
   ]
  },
  {
   "cell_type": "markdown",
   "metadata": {},
   "source": [
    "# 4.3 최고의 정책 찾기 - 벨류 이터레이션"
   ]
  },
  {
   "cell_type": "markdown",
   "metadata": {},
   "source": [
    "최적 가치 테이블 초기화"
   ]
  },
  {
   "cell_type": "code",
   "execution_count": 12,
   "metadata": {},
   "outputs": [
    {
     "data": {
      "text/plain": [
       "array([[0., 0., 0., 0.],\n",
       "       [0., 0., 0., 0.],\n",
       "       [0., 0., 0., 0.],\n",
       "       [0., 0., 0., 0.]])"
      ]
     },
     "execution_count": 12,
     "metadata": {},
     "output_type": "execute_result"
    }
   ],
   "source": [
    "grid_0 = np.zeros((4, 4))\n",
    "grid_0"
   ]
  },
  {
   "cell_type": "markdown",
   "metadata": {},
   "source": [
    "- grid 에서 상태의 value를 조회하는 함수\n",
    "- 모든 상태에 대허서 $r_s^a = -1$\n",
    "- 모든 상태, 모든 액션에 대허서 $P_{ss'}^a = 1.0$\n",
    "- 감쇠 인자 $\\gamma = 1$\n",
    "- 상태 수식\n",
    "$$v_{\\pi}(s) = \\underset{a}{\\mathrm{max}} \\left [ r_s^a + \\gamma \\sum_{s' \\in S} P_{ss'}^a v_{\\pi}(s')\\right ]$$"
   ]
  },
  {
   "cell_type": "code",
   "execution_count": 13,
   "metadata": {},
   "outputs": [],
   "source": [
    "def get_value(grid, state):\n",
    "    # 상태의 row, col 값 계산\n",
    "    row = state // grid.shape[1]\n",
    "    col = state % grid.shape[1]\n",
    "    # left, right, up, down 에 대한 밸류 계산\n",
    "    left_value = (-1 + 1 * grid[row, max(0, col - 1)])\n",
    "    right_value = (-1 + 1 * grid[row, min(grid.shape[1] - 1, col + 1)])\n",
    "    up_value =  (-1 + 1 * grid[max(0, row - 1), col])\n",
    "    down_value = (-1 + 1 * grid[min(grid.shape[0] - 1, row + 1), col])\n",
    "    # 밸류의 최댓값 계산\n",
    "    value = max(left_value, right_value, up_value, down_value)\n",
    "    return value"
   ]
  },
  {
   "cell_type": "markdown",
   "metadata": {},
   "source": [
    "- 상태 $s_5$에 대한 최적 가치 계산 (1행, 1열)"
   ]
  },
  {
   "cell_type": "code",
   "execution_count": 14,
   "metadata": {},
   "outputs": [
    {
     "data": {
      "text/plain": [
       "array([[ 0.,  0.,  0.,  0.],\n",
       "       [ 0., -1.,  0.,  0.],\n",
       "       [ 0.,  0.,  0.,  0.],\n",
       "       [ 0.,  0.,  0.,  0.]])"
      ]
     },
     "execution_count": 14,
     "metadata": {},
     "output_type": "execute_result"
    }
   ],
   "source": [
    "grid_new = np.copy(grid_0)\n",
    "grid_new[1, 1] = get_value(grid_0, 5)\n",
    "grid_new"
   ]
  },
  {
   "cell_type": "markdown",
   "metadata": {},
   "source": [
    "- 전체 상태 $s$에 대해 1회 계산 함수 정의"
   ]
  },
  {
   "cell_type": "code",
   "execution_count": 15,
   "metadata": {},
   "outputs": [],
   "source": [
    "def update_value(grid):\n",
    "    grid_new = np.copy(grid)\n",
    "    for state in range(grid.shape[0] * grid.shape[1] - 1):  # 마지막 상태 15는 종료상태로 계산에서 제외\n",
    "        row = state // grid.shape[1]\n",
    "        col = state % grid.shape[1]\n",
    "        grid_new[row, col] = get_value(grid, state)\n",
    "    return grid_new"
   ]
  },
  {
   "cell_type": "markdown",
   "metadata": {},
   "source": [
    "- 전체 상태 $s$에 대해 1회 계산"
   ]
  },
  {
   "cell_type": "code",
   "execution_count": 16,
   "metadata": {},
   "outputs": [
    {
     "data": {
      "text/plain": [
       "array([[-1., -1., -1., -1.],\n",
       "       [-1., -1., -1., -1.],\n",
       "       [-1., -1., -1., -1.],\n",
       "       [-1., -1., -1.,  0.]])"
      ]
     },
     "execution_count": 16,
     "metadata": {},
     "output_type": "execute_result"
    }
   ],
   "source": [
    "grid_1 = update_value(grid_0)\n",
    "grid_1"
   ]
  },
  {
   "cell_type": "markdown",
   "metadata": {},
   "source": [
    "- 전체 상태 $s$에 대해 2회 (1회 추가) 계산"
   ]
  },
  {
   "cell_type": "code",
   "execution_count": 17,
   "metadata": {},
   "outputs": [
    {
     "data": {
      "text/plain": [
       "array([[-2., -2., -2., -2.],\n",
       "       [-2., -2., -2., -2.],\n",
       "       [-2., -2., -2., -1.],\n",
       "       [-2., -2., -1.,  0.]])"
      ]
     },
     "execution_count": 17,
     "metadata": {},
     "output_type": "execute_result"
    }
   ],
   "source": [
    "grid_2 = update_value(grid_1)\n",
    "grid_2"
   ]
  },
  {
   "cell_type": "markdown",
   "metadata": {},
   "source": [
    "- 전체 상태 $s$에 대해 3회 (1회 추가) 계산"
   ]
  },
  {
   "cell_type": "code",
   "execution_count": 18,
   "metadata": {},
   "outputs": [
    {
     "data": {
      "text/plain": [
       "array([[-3., -3., -3., -3.],\n",
       "       [-3., -3., -3., -2.],\n",
       "       [-3., -3., -2., -1.],\n",
       "       [-3., -2., -1.,  0.]])"
      ]
     },
     "execution_count": 18,
     "metadata": {},
     "output_type": "execute_result"
    }
   ],
   "source": [
    "grid_3 = update_value(grid_2)\n",
    "grid_3"
   ]
  },
  {
   "cell_type": "markdown",
   "metadata": {},
   "source": [
    "- 전체 상태 $s$에 대해 50회 (47회 추가) 계산"
   ]
  },
  {
   "cell_type": "code",
   "execution_count": 19,
   "metadata": {},
   "outputs": [
    {
     "data": {
      "text/plain": [
       "array([[-6., -5., -4., -3.],\n",
       "       [-5., -4., -3., -2.],\n",
       "       [-4., -3., -2., -1.],\n",
       "       [-3., -2., -1.,  0.]])"
      ]
     },
     "execution_count": 19,
     "metadata": {},
     "output_type": "execute_result"
    }
   ],
   "source": [
    "grid = np.copy(grid_3)\n",
    "for _ in range(47):\n",
    "    grid = update_value(grid)\n",
    "grid"
   ]
  },
  {
   "cell_type": "markdown",
   "metadata": {},
   "source": [
    "- 전체 상태 $s$에 대해 200회 (150회 추가) 계산"
   ]
  },
  {
   "cell_type": "code",
   "execution_count": 20,
   "metadata": {},
   "outputs": [
    {
     "data": {
      "text/plain": [
       "array([[-6., -5., -4., -3.],\n",
       "       [-5., -4., -3., -2.],\n",
       "       [-4., -3., -2., -1.],\n",
       "       [-3., -2., -1.,  0.]])"
      ]
     },
     "execution_count": 20,
     "metadata": {},
     "output_type": "execute_result"
    }
   ],
   "source": [
    "for _ in range(150):\n",
    "    grid = update_value(grid)\n",
    "grid"
   ]
  },
  {
   "cell_type": "markdown",
   "metadata": {},
   "source": [
    "- 전체 상태 $s$에 대해 1000회 (800회 추가) 계산"
   ]
  },
  {
   "cell_type": "code",
   "execution_count": 21,
   "metadata": {},
   "outputs": [
    {
     "data": {
      "text/plain": [
       "array([[-6., -5., -4., -3.],\n",
       "       [-5., -4., -3., -2.],\n",
       "       [-4., -3., -2., -1.],\n",
       "       [-3., -2., -1.,  0.]])"
      ]
     },
     "execution_count": 21,
     "metadata": {},
     "output_type": "execute_result"
    }
   ],
   "source": [
    "for _ in range(800):\n",
    "    grid = update_value(grid)\n",
    "grid"
   ]
  },
  {
   "cell_type": "code",
   "execution_count": null,
   "metadata": {},
   "outputs": [],
   "source": []
  }
 ],
 "metadata": {
  "kernelspec": {
   "display_name": "Python 3.8.13 ('challenge')",
   "language": "python",
   "name": "python3"
  },
  "language_info": {
   "codemirror_mode": {
    "name": "ipython",
    "version": 3
   },
   "file_extension": ".py",
   "mimetype": "text/x-python",
   "name": "python",
   "nbconvert_exporter": "python",
   "pygments_lexer": "ipython3",
   "version": "3.8.13"
  },
  "orig_nbformat": 4,
  "vscode": {
   "interpreter": {
    "hash": "b4db2a12af3ef8b0e30f6de14b6f9eeee638905350cc1d2be0bebab10d16d430"
   }
  }
 },
 "nbformat": 4,
 "nbformat_minor": 2
}
